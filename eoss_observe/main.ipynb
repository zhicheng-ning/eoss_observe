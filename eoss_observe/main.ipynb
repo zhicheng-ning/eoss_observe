{
 "cells": [
  {
   "cell_type": "code",
   "execution_count": 19,
   "metadata": {
    "notebookRunGroups": {
     "groupValue": ""
    }
   },
   "outputs": [
    {
     "data": {
      "text/plain": [
       "3"
      ]
     },
     "execution_count": 19,
     "metadata": {},
     "output_type": "execute_result"
    }
   ],
   "source": [
    "import requests\n",
    "\n",
    "\n",
    "url = \"https://xlab-open-source.oss-cn-beijing.aliyuncs.com/open_leaderboard/activity/company/chinese/202311.json\"\n",
    "response = requests.get(url)\n",
    "\n",
    "\n",
    "if response.status_code == 200:\n",
    "    raw_dict = response.json()\n",
    "else:\n",
    "    print(\"Error: Failed to retrieve data from the URL\")\n",
    "    exit()\n",
    "\n",
    "\n",
    "len(raw_dict)"
   ]
  },
  {
   "cell_type": "code",
   "execution_count": 20,
   "metadata": {},
   "outputs": [
    {
     "data": {
      "text/plain": [
       "{'item': {'name': 'Huawei',\n",
       "  'issue_comment': '27931',\n",
       "  'open_issue': '5304',\n",
       "  'open_pull': '4342',\n",
       "  'review_comment': '907',\n",
       "  'merged_pull': '39137'},\n",
       " 'rank': 1,\n",
       " 'value': 27089.6,\n",
       " 'rankDelta': 0,\n",
       " 'valueDelta': 9107.38}"
      ]
     },
     "execution_count": 20,
     "metadata": {},
     "output_type": "execute_result"
    }
   ],
   "source": [
    "from pydantic import BaseModel\n",
    "from typing import List\n",
    "\n",
    "\n",
    "class CompanyItem(BaseModel):\n",
    "    name: str\n",
    "    issue_comment: str\n",
    "    open_issue: str\n",
    "    open_pull: str\n",
    "    review_comment: str\n",
    "    merged_pull: str\n",
    "\n",
    "\n",
    "class CompanyData(BaseModel):\n",
    "    item: CompanyItem\n",
    "    rank: int\n",
    "    value: float\n",
    "    rankDelta: int\n",
    "    valueDelta: float\n",
    "\n",
    "\n",
    "class CompanyChinaMonth(BaseModel):\n",
    "    type: str\n",
    "    time: str\n",
    "    data: List[CompanyData]  # Change from CompanyData to List[CompanyData]\n",
    "\n",
    "\n",
    "company_china_month = CompanyChinaMonth.model_validate(raw_dict)\n",
    "\n",
    "company_china_month.data[0].model_dump()\n"
   ]
  }
 ],
 "metadata": {
  "kernelspec": {
   "display_name": ".venv",
   "language": "python",
   "name": "python3"
  },
  "language_info": {
   "codemirror_mode": {
    "name": "ipython",
    "version": 3
   },
   "file_extension": ".py",
   "mimetype": "text/x-python",
   "name": "python",
   "nbconvert_exporter": "python",
   "pygments_lexer": "ipython3",
   "version": "3.10.0"
  }
 },
 "nbformat": 4,
 "nbformat_minor": 2
}
